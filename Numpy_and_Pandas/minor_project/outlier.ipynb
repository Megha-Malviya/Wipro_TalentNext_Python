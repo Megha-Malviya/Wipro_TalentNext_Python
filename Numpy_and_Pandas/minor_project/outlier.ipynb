{
 "cells": [
  {
   "cell_type": "code",
   "execution_count": 19,
   "id": "f1e4ca51",
   "metadata": {},
   "outputs": [],
   "source": [
    "import pandas as pd\n",
    "import numpy as np\n"
   ]
  },
  {
   "cell_type": "code",
   "execution_count": null,
   "id": "d18b9555",
   "metadata": {},
   "outputs": [
    {
     "name": "stdout",
     "output_type": "stream",
     "text": [
      "Data Preview:\n",
      "    mpg  cylinders  displacement horsepower  weight  acceleration  model year  \\\n",
      "0  18.0          8         307.0        130    3504          12.0          70   \n",
      "1  15.0          8         350.0        165    3693          11.5          70   \n",
      "2  18.0          8         318.0        150    3436          11.0          70   \n",
      "3  16.0          8         304.0        150    3433          12.0          70   \n",
      "4  17.0          8         302.0        140    3449          10.5          70   \n",
      "\n",
      "   origin                   car name  \n",
      "0       1  chevrolet chevelle malibu  \n",
      "1       1          buick skylark 320  \n",
      "2       1         plymouth satellite  \n",
      "3       1              amc rebel sst  \n",
      "4       1                ford torino  \n"
     ]
    }
   ],
   "source": [
    "df = pd.read_csv('datasetExample.csv')\n",
    "print(\"Data Preview:\")\n",
    "print(df.head())\n"
   ]
  },
  {
   "cell_type": "code",
   "execution_count": null,
   "id": "9ea7011d",
   "metadata": {},
   "outputs": [
    {
     "name": "stdout",
     "output_type": "stream",
     "text": [
      "\n",
      "Outliers (Z-score method):\n",
      "      mpg  cylinders  displacement horsepower  weight  acceleration  \\\n",
      "299  27.2          4         141.0         71    3190          24.8   \n",
      "394  44.0          4          97.0         52    2130          24.6   \n",
      "\n",
      "     model year  origin     car name  \n",
      "299          79       2  peugeot 504  \n",
      "394          82       2    vw pickup  \n"
     ]
    }
   ],
   "source": [
    "numeric_cols = df.select_dtypes(include=np.number)\n",
    "mean_vals = numeric_cols.mean()\n",
    "std_vals = numeric_cols.std(ddof=0)\n",
    "z_scores = np.abs((numeric_cols - mean_vals) / std_vals)\n",
    "\n",
    "threshold = 3\n",
    "outlier_rows_z = (z_scores > threshold).any(axis=1)\n",
    "print(\"\\nOutliers (Z-score method):\")\n",
    "print(df[outlier_rows_z])\n"
   ]
  },
  {
   "cell_type": "markdown",
   "id": "d418fe0e",
   "metadata": {},
   "source": []
  },
  {
   "cell_type": "code",
   "execution_count": null,
   "id": "4e1db450",
   "metadata": {},
   "outputs": [
    {
     "name": "stdout",
     "output_type": "stream",
     "text": [
      "\n",
      "Outliers (IQR method):\n",
      "      mpg  cylinders  displacement horsepower  weight  acceleration  \\\n",
      "7    14.0          8         440.0        215    4312           8.5   \n",
      "9    15.0          8         390.0        190    3850           8.5   \n",
      "11   14.0          8         340.0        160    3609           8.0   \n",
      "59   23.0          4          97.0         54    2254          23.5   \n",
      "299  27.2          4         141.0         71    3190          24.8   \n",
      "322  46.6          4          86.0         65    2110          17.9   \n",
      "326  43.4          4          90.0         48    2335          23.7   \n",
      "394  44.0          4          97.0         52    2130          24.6   \n",
      "\n",
      "     model year  origin            car name  \n",
      "7            70       1   plymouth fury iii  \n",
      "9            70       1  amc ambassador dpl  \n",
      "11           70       1  plymouth 'cuda 340  \n",
      "59           72       2   volkswagen type 3  \n",
      "299          79       2         peugeot 504  \n",
      "322          80       3           mazda glc  \n",
      "326          80       2  vw dasher (diesel)  \n",
      "394          82       2           vw pickup  \n"
     ]
    }
   ],
   "source": [
    "Q1 = numeric_cols.quantile(0.25)\n",
    "Q3 = numeric_cols.quantile(0.75)\n",
    "IQR = Q3 - Q1\n",
    "\n",
    "outlier_rows_iqr = ((numeric_cols < (Q1 - 1.5 * IQR)) | (numeric_cols > (Q3 + 1.5 * IQR))).any(axis=1)\n",
    "print(\"\\nOutliers (IQR method):\")\n",
    "print(df[outlier_rows_iqr])\n"
   ]
  },
  {
   "cell_type": "code",
   "execution_count": null,
   "id": "4954e5b5",
   "metadata": {},
   "outputs": [],
   "source": []
  }
 ],
 "metadata": {
  "kernelspec": {
   "display_name": "Python 3",
   "language": "python",
   "name": "python3"
  },
  "language_info": {
   "codemirror_mode": {
    "name": "ipython",
    "version": 3
   },
   "file_extension": ".py",
   "mimetype": "text/x-python",
   "name": "python",
   "nbconvert_exporter": "python",
   "pygments_lexer": "ipython3",
   "version": "3.11.9"
  }
 },
 "nbformat": 4,
 "nbformat_minor": 5
}
