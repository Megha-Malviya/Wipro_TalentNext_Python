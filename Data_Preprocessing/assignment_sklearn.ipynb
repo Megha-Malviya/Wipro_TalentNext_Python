{
 "cells": [
  {
   "cell_type": "code",
   "execution_count": 17,
   "id": "b238832a",
   "metadata": {},
   "outputs": [],
   "source": [
    "import pandas as pd\n",
    "import numpy as np\n",
    "from sklearn.model_selection import train_test_split\n",
    "from sklearn.preprocessing import StandardScaler, OneHotEncoder\n",
    "from sklearn.compose import ColumnTransformer\n",
    "from sklearn.pipeline import Pipeline\n",
    "from sklearn.impute import SimpleImputer"
   ]
  },
  {
   "cell_type": "code",
   "execution_count": 18,
   "id": "2ff9a0fb",
   "metadata": {},
   "outputs": [
    {
     "name": "stdout",
     "output_type": "stream",
     "text": [
      "Dataset Shape: (18396, 22)\n",
      "   Unnamed: 0      Suburb           Address  Rooms Type      Price Method  \\\n",
      "0           1  Abbotsford      85 Turner St      2    h  1480000.0      S   \n",
      "1           2  Abbotsford   25 Bloomburg St      2    h  1035000.0      S   \n",
      "2           4  Abbotsford      5 Charles St      3    h  1465000.0     SP   \n",
      "3           5  Abbotsford  40 Federation La      3    h   850000.0     PI   \n",
      "4           6  Abbotsford       55a Park St      4    h  1600000.0     VB   \n",
      "\n",
      "  SellerG       Date  Distance  ...  Bathroom  Car  Landsize  BuildingArea  \\\n",
      "0  Biggin  3/12/2016       2.5  ...       1.0  1.0     202.0           NaN   \n",
      "1  Biggin  4/02/2016       2.5  ...       1.0  0.0     156.0          79.0   \n",
      "2  Biggin  4/03/2017       2.5  ...       2.0  0.0     134.0         150.0   \n",
      "3  Biggin  4/03/2017       2.5  ...       2.0  1.0      94.0           NaN   \n",
      "4  Nelson  4/06/2016       2.5  ...       1.0  2.0     120.0         142.0   \n",
      "\n",
      "   YearBuilt  CouncilArea  Lattitude Longtitude             Regionname  \\\n",
      "0        NaN        Yarra   -37.7996   144.9984  Northern Metropolitan   \n",
      "1     1900.0        Yarra   -37.8079   144.9934  Northern Metropolitan   \n",
      "2     1900.0        Yarra   -37.8093   144.9944  Northern Metropolitan   \n",
      "3        NaN        Yarra   -37.7969   144.9969  Northern Metropolitan   \n",
      "4     2014.0        Yarra   -37.8072   144.9941  Northern Metropolitan   \n",
      "\n",
      "   Propertycount  \n",
      "0         4019.0  \n",
      "1         4019.0  \n",
      "2         4019.0  \n",
      "3         4019.0  \n",
      "4         4019.0  \n",
      "\n",
      "[5 rows x 22 columns]\n"
     ]
    }
   ],
   "source": [
    "df = pd.read_csv(\"melb_data.csv\")  # ensure file is in same folder\n",
    "print(\"Dataset Shape:\", df.shape)\n",
    "print(df.head())"
   ]
  },
  {
   "cell_type": "code",
   "execution_count": 19,
   "id": "e453ed0f",
   "metadata": {},
   "outputs": [
    {
     "name": "stdout",
     "output_type": "stream",
     "text": [
      "\n",
      "Numerical Columns: ['Unnamed: 0', 'Rooms', 'Distance', 'Postcode', 'Bedroom2', 'Bathroom', 'Car', 'Landsize', 'BuildingArea', 'YearBuilt', 'Lattitude', 'Longtitude']\n",
      "Categorical Columns: ['Suburb', 'Type', 'Method']\n"
     ]
    }
   ],
   "source": [
    "df = df.drop(columns=[\"Address\", \"SellerG\", \"Date\", \"CouncilArea\", \"Regionname\", \"Propertycount\"], errors=\"ignore\")\n",
    "X = df.drop(\"Price\", axis=1)\n",
    "y = df[\"Price\"]\n",
    "\n",
    "num_cols = X.select_dtypes(include=np.number).columns.tolist()\n",
    "cat_cols = X.select_dtypes(include=\"object\").columns.tolist()\n",
    "\n",
    "print(\"\\nNumerical Columns:\", num_cols)\n",
    "print(\"Categorical Columns:\", cat_cols)\n"
   ]
  },
  {
   "cell_type": "code",
   "execution_count": 20,
   "id": "8e36e3aa",
   "metadata": {},
   "outputs": [],
   "source": [
    "\n",
    "num_pipeline = Pipeline(steps=[\n",
    "    (\"imputer\", SimpleImputer(strategy=\"median\")),\n",
    "    (\"scaler\", StandardScaler())\n",
    "])\n",
    "\n"
   ]
  },
  {
   "cell_type": "code",
   "execution_count": 21,
   "id": "410aadcd",
   "metadata": {},
   "outputs": [],
   "source": [
    "cat_pipeline = Pipeline(steps=[\n",
    "    (\"imputer\", SimpleImputer(strategy=\"most_frequent\")),\n",
    "    (\"encoder\", OneHotEncoder(handle_unknown=\"ignore\"))\n",
    "])"
   ]
  },
  {
   "cell_type": "code",
   "execution_count": 22,
   "id": "7124252f",
   "metadata": {},
   "outputs": [],
   "source": [
    "preprocessor = ColumnTransformer(transformers=[\n",
    "    (\"num\", num_pipeline, num_cols),\n",
    "    (\"cat\", cat_pipeline, cat_cols)\n",
    "])\n"
   ]
  },
  {
   "cell_type": "code",
   "execution_count": 23,
   "id": "e14399bd",
   "metadata": {},
   "outputs": [
    {
     "name": "stdout",
     "output_type": "stream",
     "text": [
      "\n",
      "Shape Before Preprocessing: (14716, 15)\n",
      "Shape After Preprocessing: (14716, 341)\n"
     ]
    }
   ],
   "source": [
    "X_train, X_test, y_train, y_test = train_test_split(X, y, test_size=0.2, random_state=42)\n",
    "\n",
    "X_train_processed = preprocessor.fit_transform(X_train)\n",
    "X_test_processed = preprocessor.transform(X_test)\n",
    "\n",
    "print(\"\\nShape Before Preprocessing:\", X_train.shape)\n",
    "print(\"Shape After Preprocessing:\", X_train_processed.shape)"
   ]
  },
  {
   "cell_type": "code",
   "execution_count": 24,
   "id": "46bb7096",
   "metadata": {},
   "outputs": [
    {
     "name": "stdout",
     "output_type": "stream",
     "text": [
      "\n",
      "Preview of Processed Training Data:\n",
      "   Unnamed: 0     Rooms  Distance  Postcode  Bedroom2  Bathroom       Car  \\\n",
      "0   -1.596158  1.105319 -0.120422 -0.052066  0.077237 -0.663154  0.343081   \n",
      "1   -0.961268  1.105319 -0.961817  0.143419  1.221871  0.860971  1.483275   \n",
      "2   -1.512130  0.065966  0.572492  0.585832  0.077237 -0.663154  0.343081   \n",
      "3   -0.727924  1.105319 -0.582364 -0.710540  1.221871 -0.663154  1.483275   \n",
      "4    0.900362  0.065966  2.073806  0.287460  0.077237  0.860971  0.343081   \n",
      "\n",
      "   Landsize  BuildingArea  YearBuilt  ...  Suburb_Yallambie  \\\n",
      "0 -0.023816     -0.031128   0.079701  ...               0.0   \n",
      "1 -0.086369      0.115414   1.344041  ...               0.0   \n",
      "2  0.012080     -0.031128   0.079701  ...               0.0   \n",
      "3  0.001258      0.142058  -2.686045  ...               0.0   \n",
      "4 -0.007188     -0.023134  -0.315406  ...               0.0   \n",
      "\n",
      "   Suburb_Yarraville  Type_h  Type_t  Type_u  Method_PI  Method_S  Method_SA  \\\n",
      "0                0.0     1.0     0.0     0.0        0.0       0.0        0.0   \n",
      "1                0.0     0.0     0.0     1.0        0.0       0.0        0.0   \n",
      "2                0.0     1.0     0.0     0.0        0.0       1.0        0.0   \n",
      "3                0.0     1.0     0.0     0.0        0.0       1.0        0.0   \n",
      "4                0.0     1.0     0.0     0.0        0.0       1.0        0.0   \n",
      "\n",
      "   Method_SP  Method_VB  \n",
      "0        0.0        1.0  \n",
      "1        0.0        1.0  \n",
      "2        0.0        0.0  \n",
      "3        0.0        0.0  \n",
      "4        0.0        0.0  \n",
      "\n",
      "[5 rows x 341 columns]\n"
     ]
    }
   ],
   "source": [
    "cat_features = preprocessor.named_transformers_[\"cat\"][\"encoder\"].get_feature_names_out(cat_cols)\n",
    "processed_features = np.concatenate([num_cols, cat_features])\n",
    "\n",
    "X_train_df = pd.DataFrame(X_train_processed.toarray() if hasattr(X_train_processed, \"toarray\") else X_train_processed,\n",
    "columns=processed_features)\n",
    "\n",
    "print(\"\\nPreview of Processed Training Data:\")\n",
    "print(X_train_df.head())"
   ]
  },
  {
   "cell_type": "code",
   "execution_count": null,
   "id": "4f0d0cf4",
   "metadata": {},
   "outputs": [],
   "source": []
  }
 ],
 "metadata": {
  "kernelspec": {
   "display_name": "Python 3",
   "language": "python",
   "name": "python3"
  },
  "language_info": {
   "codemirror_mode": {
    "name": "ipython",
    "version": 3
   },
   "file_extension": ".py",
   "mimetype": "text/x-python",
   "name": "python",
   "nbconvert_exporter": "python",
   "pygments_lexer": "ipython3",
   "version": "3.11.9"
  }
 },
 "nbformat": 4,
 "nbformat_minor": 5
}
